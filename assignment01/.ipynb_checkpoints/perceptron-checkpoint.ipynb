{
 "cells": [
  {
   "cell_type": "code",
   "execution_count": 47,
   "metadata": {
    "collapsed": false,
    "scrolled": false
   },
   "outputs": [
    {
     "name": "stdout",
     "output_type": "stream",
     "text": [
      "foo\n",
      "foo\n",
      "foo\n",
      "foo\n",
      "foo\n",
      "foo\n",
      "foo\n",
      "foo\n",
      "foo\n",
      "foo\n",
      "[1 0 0 0]\n"
     ]
    }
   ],
   "source": [
    "import numpy as np;\n",
    "\n",
    "class Perceptron:\n",
    "\n",
    "    def __init__(self, eta, n_iter):\n",
    "        self._eta = eta;\n",
    "        self._n_iter = n_iter;\n",
    "        \n",
    "    def fit(self, training_data, labels):\n",
    "        # check inputs\n",
    "        if(training_data.shape[0] != labels.size):\n",
    "            print('data and label size does not fit')\n",
    "        \n",
    "        number_of_training_data = training_data.size\n",
    "        # initialize weights - add bias weight in the beginning\n",
    "        self._weights = np.array(np.random.rand(number_of_training_data+1))\n",
    "        \n",
    "        # start training\n",
    "        for i in range(self._n_iter):\n",
    "            # choose random training example\n",
    "            index = np.random.randint(number_of_training_data)\n",
    "            training_example = training_data[index]\n",
    "            training_label = labels[index]\n",
    "            \n",
    "            # calculate activation\n",
    "            activation = predict(training_example)\n",
    "            \n",
    "            # calculate error\n",
    "            error = activation - training_label\n",
    "            \n",
    "            # calculate weight change        \n",
    "            # adapt weights\n",
    "            self._weights = self._weights + error * training_example*self._eta\n",
    "    \n",
    "    def predict(self, net_input):\n",
    "        # add bias to input\n",
    "        net_input = np.concatenate((np.array([1]),net_input),axis=0)\n",
    "        \n",
    "        activation = np.dot(net_input, self._weights)\n",
    "        result = self.activate(activation);\n",
    "        return result;\n",
    "    \n",
    "    def activate(self, activation):\n",
    "        if(activation < 0):\n",
    "            return 0\n",
    "        return 1;\n",
    "\n",
    "np.genfromtxt()"
   ]
  },
  {
   "cell_type": "code",
   "execution_count": 33,
   "metadata": {
    "collapsed": false
   },
   "outputs": [
    {
     "data": {
      "text/plain": [
       "array([ 0.3902427 ,  0.78131739,  0.2776441 ])"
      ]
     },
     "execution_count": 33,
     "metadata": {},
     "output_type": "execute_result"
    }
   ],
   "source": [
    "np.random.rand(3)"
   ]
  },
  {
   "cell_type": "code",
   "execution_count": 55,
   "metadata": {
    "collapsed": false
   },
   "outputs": [
    {
     "data": {
      "text/plain": [
       "3"
      ]
     },
     "execution_count": 55,
     "metadata": {},
     "output_type": "execute_result"
    }
   ],
   "source": [
    "a = np.array([[1,2,3],[2,3,1]])\n",
    "b = a.shape\n",
    "b[1]"
   ]
  },
  {
   "cell_type": "code",
   "execution_count": null,
   "metadata": {
    "collapsed": true
   },
   "outputs": [],
   "source": []
  }
 ],
 "metadata": {
  "kernelspec": {
   "display_name": "Python 3",
   "language": "python",
   "name": "python3"
  },
  "language_info": {
   "codemirror_mode": {
    "name": "ipython",
    "version": 3
   },
   "file_extension": ".py",
   "mimetype": "text/x-python",
   "name": "python",
   "nbconvert_exporter": "python",
   "pygments_lexer": "ipython3",
   "version": "3.4.3"
  }
 },
 "nbformat": 4,
 "nbformat_minor": 0
}

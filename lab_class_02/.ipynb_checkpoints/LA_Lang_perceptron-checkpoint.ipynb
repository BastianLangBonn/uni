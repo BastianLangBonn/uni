{
 "cells": [
  {
   "cell_type": "markdown",
   "metadata": {},
   "source": [
    "## IN LAB ASSIGNMENT I\n",
    "### Bastian Lang\n",
    "\n",
    "1) Perceptron class. With some inspiration and correction taken from https://github.com/rasbt/python-machine-learning-book/blob/master/code/ch02/ch02.ipynb\n"
   ]
  },
  {
   "cell_type": "code",
   "execution_count": 5,
   "metadata": {
    "collapsed": false,
    "scrolled": false
   },
   "outputs": [],
   "source": [
    "import numpy as np;\n",
    "%matplotlib inline\n",
    "from matplotlib import pyplot as plt\n",
    "## Class representing a perceptron\n",
    "class Perceptron:\n",
    "\n",
    "    # Constructor\n",
    "    # eta: Learning rate\n",
    "    # n_iter: number of iterations when fitting the data\n",
    "    def __init__(self, eta, n_iter):\n",
    "        self._eta = eta;\n",
    "        self._n_iter = n_iter;\n",
    "        \n",
    "        \n",
    "    # Function to adapt the weights of the perceptron to a given set of training data.\n",
    "    # training_data: Data to be fitted\n",
    "    # labels: labels for the given training data\n",
    "    def fit(self, training_data, labels):\n",
    "        # check inputs\n",
    "        if(training_data.shape[0] != labels.size):\n",
    "            print('data and label size does not fit')\n",
    "        \n",
    "        number_of_training_examples = training_data.shape[0]\n",
    "        number_of_parameters = training_data.shape[1]\n",
    "        # initialize weights - add bias weight in the beginning\n",
    "        self._weights = np.array(np.random.rand(number_of_parameters+1))\n",
    "        self._errors = []\n",
    "        # start training\n",
    "        for i in range(self._n_iter):\n",
    "            errors = 0\n",
    "            for training_example, training_label in zip(training_data, labels):\n",
    "                # calculate activation\n",
    "                activation = self.predict(training_example)\n",
    "\n",
    "                # calculate error\n",
    "                error = training_label - activation\n",
    "                errors += int(error != 0.0)\n",
    "                #print(error)\n",
    "\n",
    "                # add bias to training example to be able to adapt its weight correctly\n",
    "                training_example =np.concatenate((np.array([1]),training_example),axis=0)\n",
    "\n",
    "                # adapt weights\n",
    "                update = error * self._eta\n",
    "                self._weights = self._weights + update * training_example\n",
    "                #print('weights:', self._weights)\n",
    "            self._errors.append(errors)\n",
    "    \n",
    "    # Given some input computes the output of the perceptron\n",
    "    def predict(self, net_input):\n",
    "        # add bias to input\n",
    "        net_input = np.concatenate((np.array([1]),net_input),axis=0)\n",
    "        \n",
    "        activation = np.dot(net_input, self._weights)\n",
    "        result = self.activate(activation);\n",
    "        return result;\n",
    "    \n",
    "    # Activation function of the perceptron (simple step function in default case)\n",
    "    def activate(self, activation):\n",
    "        if(activation < 0):\n",
    "            return -1\n",
    "        return 1;\n"
   ]
  },
  {
   "cell_type": "markdown",
   "metadata": {},
   "source": [
    "2) Application of class to zoo.data from https://archive.ics.uci.edu/ml/datasets/Zoo\n",
    "\n",
    "The figure below shows the classification error over time during learning of predicting type 1 animals."
   ]
  },
  {
   "cell_type": "code",
   "execution_count": 6,
   "metadata": {
    "collapsed": false,
    "scrolled": true
   },
   "outputs": [
    {
     "data": {
      "image/png": "[encoded data removed]",
      "text/plain": [
       "<matplotlib.figure.Figure at 0x7f30a4621630>"
      ]
     },
     "metadata": {},
     "output_type": "display_data"
    }
   ],
   "source": [
    "data = np.genfromtxt('zoo.data', delimiter=',')\n",
    "training_data = data[:,1:data.shape[1]-1]\n",
    "labels = data[:,-1]\n",
    "y = np.where(labels == 1, 1, -1)\n",
    "#print(labels)\n",
    "#print(y)\n",
    "eta = 0.1\n",
    "n_iter = 100\n",
    "perceptron = Perceptron(eta, n_iter)\n",
    "perceptron.fit(training_data, y)\n",
    "\n",
    "plt.plot(range(1, len(perceptron._errors) + 1), perceptron._errors, marker='o')\n",
    "plt.xlabel('Epochs')\n",
    "plt.ylabel('Number of misclassifications')\n",
    "\n",
    "plt.tight_layout()\n",
    "# plt.savefig('./perceptron_1.png', dpi=300)\n",
    "plt.show()\n",
    "#print(perceptron._errors)\n",
    "#print(training_data.shape)"
   ]
  },
  {
   "cell_type": "markdown",
   "metadata": {},
   "source": [
    "3) Application to iris dataset as has been done in https://github.com/rasbt/python-machine-learning-book/blob/master/code/ch02/ch02.ipynb, only this time with the definition of a Perceptron above."
   ]
  },
  {
   "cell_type": "code",
   "execution_count": 8,
   "metadata": {
    "collapsed": false
   },
   "outputs": [
    {
     "data": {
      "text/html": [
       "<div>\n",
       "<table border=\"1\" class=\"dataframe\">\n",
       "  <thead>\n",
       "    <tr style=\"text-align: right;\">\n",
       "      <th></th>\n",
       "      <th>0</th>\n",
       "      <th>1</th>\n",
       "      <th>2</th>\n",
       "      <th>3</th>\n",
       "      <th>4</th>\n",
       "    </tr>\n",
       "  </thead>\n",
       "  <tbody>\n",
       "    <tr>\n",
       "      <th>145</th>\n",
       "      <td>6.7</td>\n",
       "      <td>3.0</td>\n",
       "      <td>5.2</td>\n",
       "      <td>2.3</td>\n",
       "      <td>Iris-virginica</td>\n",
       "    </tr>\n",
       "    <tr>\n",
       "      <th>146</th>\n",
       "      <td>6.3</td>\n",
       "      <td>2.5</td>\n",
       "      <td>5.0</td>\n",
       "      <td>1.9</td>\n",
       "      <td>Iris-virginica</td>\n",
       "    </tr>\n",
       "    <tr>\n",
       "      <th>147</th>\n",
       "      <td>6.5</td>\n",
       "      <td>3.0</td>\n",
       "      <td>5.2</td>\n",
       "      <td>2.0</td>\n",
       "      <td>Iris-virginica</td>\n",
       "    </tr>\n",
       "    <tr>\n",
       "      <th>148</th>\n",
       "      <td>6.2</td>\n",
       "      <td>3.4</td>\n",
       "      <td>5.4</td>\n",
       "      <td>2.3</td>\n",
       "      <td>Iris-virginica</td>\n",
       "    </tr>\n",
       "    <tr>\n",
       "      <th>149</th>\n",
       "      <td>5.9</td>\n",
       "      <td>3.0</td>\n",
       "      <td>5.1</td>\n",
       "      <td>1.8</td>\n",
       "      <td>Iris-virginica</td>\n",
       "    </tr>\n",
       "  </tbody>\n",
       "</table>\n",
       "</div>"
      ],
      "text/plain": [
       "       0    1    2    3               4\n",
       "145  6.7  3.0  5.2  2.3  Iris-virginica\n",
       "146  6.3  2.5  5.0  1.9  Iris-virginica\n",
       "147  6.5  3.0  5.2  2.0  Iris-virginica\n",
       "148  6.2  3.4  5.4  2.3  Iris-virginica\n",
       "149  5.9  3.0  5.1  1.8  Iris-virginica"
      ]
     },
     "execution_count": 8,
     "metadata": {},
     "output_type": "execute_result"
    }
   ],
   "source": [
    "import sklearn\n",
    "from sklearn.datasets import load_iris\n",
    "import pandas as pd\n",
    "\n",
    "#df = sklearn.datasets.load_iris()\n",
    "df = pd.read_csv('iris.data', header=None)\n",
    "df.tail()\n",
    "#print(df)"
   ]
  },
  {
   "cell_type": "code",
   "execution_count": 9,
   "metadata": {
    "collapsed": false,
    "scrolled": false
   },
   "outputs": [
    {
     "data": {
      "image/png": "[encoded data removed]",
      "text/plain": [
       "<matplotlib.figure.Figure at 0x7f308b7ddb70>"
      ]
     },
     "metadata": {},
     "output_type": "display_data"
    }
   ],
   "source": [
    "# select setosa and versicolor\n",
    "y = df.iloc[0:100, 4].values\n",
    "y = np.where(y == 'Iris-setosa', -1, 1)\n",
    "\n",
    "# extract sepal length and petal length\n",
    "X = df.iloc[0:100, [0, 2]].values\n",
    "\n",
    "ppn = Perceptron(eta, n_iter)\n",
    "ppn.fit(X,y)\n",
    "\n",
    "plt.plot(range(1, len(ppn._errors) + 1), ppn._errors, marker='o')\n",
    "plt.xlabel('Epochs')\n",
    "plt.ylabel('Number of misclassifications')\n",
    "\n",
    "plt.tight_layout()\n",
    "# plt.savefig('./perceptron_1.png', dpi=300)\n",
    "plt.show()\n"
   ]
  },
  {
   "cell_type": "code",
   "execution_count": null,
   "metadata": {
    "collapsed": true
   },
   "outputs": [],
   "source": []
  },
  {
   "cell_type": "code",
   "execution_count": null,
   "metadata": {
    "collapsed": true
   },
   "outputs": [],
   "source": []
  }
 ],
 "metadata": {
  "kernelspec": {
   "display_name": "Python 3",
   "language": "python",
   "name": "python3"
  },
  "language_info": {
   "codemirror_mode": {
    "name": "ipython",
    "version": 3
   },
   "file_extension": ".py",
   "mimetype": "text/x-python",
   "name": "python",
   "nbconvert_exporter": "python",
   "pygments_lexer": "ipython3",
   "version": "3.4.3"
  }
 },
 "nbformat": 4,
 "nbformat_minor": 0
}
